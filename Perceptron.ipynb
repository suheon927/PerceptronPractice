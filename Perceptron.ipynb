{
  "nbformat": 4,
  "nbformat_minor": 0,
  "metadata": {
    "colab": {
      "provenance": [],
      "authorship_tag": "ABX9TyPBkowfj5xuWt2+8BRn5HPJ",
      "include_colab_link": true
    },
    "kernelspec": {
      "name": "python3",
      "display_name": "Python 3"
    },
    "language_info": {
      "name": "python"
    }
  },
  "cells": [
    {
      "cell_type": "markdown",
      "metadata": {
        "id": "view-in-github",
        "colab_type": "text"
      },
      "source": [
        "<a href=\"https://colab.research.google.com/github/suheon927/PerceptronPractice/blob/main/Perceptron.ipynb\" target=\"_parent\"><img src=\"https://colab.research.google.com/assets/colab-badge.svg\" alt=\"Open In Colab\"/></a>"
      ]
    },
    {
      "cell_type": "code",
      "execution_count": 1,
      "metadata": {
        "colab": {
          "base_uri": "https://localhost:8080/"
        },
        "id": "fgg2wbdcvvnm",
        "outputId": "6e33693c-5dd0-47d3-8d9e-1016b4289cb9"
      },
      "outputs": [
        {
          "output_type": "stream",
          "name": "stdout",
          "text": [
            "Epoch 0, Loss: 0.2889309748103554\n",
            "Epoch 1000, Loss: 0.0004065805583503611\n",
            "Epoch 2000, Loss: 8.53528386672547e-05\n",
            "Epoch 3000, Loss: 3.338421515273317e-05\n",
            "Epoch 4000, Loss: 1.603877026172857e-05\n",
            "Epoch 5000, Loss: 8.479525972913184e-06\n",
            "Epoch 6000, Loss: 4.718800666068435e-06\n",
            "Epoch 7000, Loss: 2.7049298170991077e-06\n",
            "Epoch 8000, Loss: 1.5786825888267907e-06\n",
            "Epoch 9000, Loss: 9.31893504010189e-07\n",
            "Input: [0 0], Predicted Output: [[0.00082715]], Actual Output: [0]\n",
            "Input: [0 1], Predicted Output: [[0.99926735]], Actual Output: [1]\n",
            "Input: [1 0], Predicted Output: [[0.99923039]], Actual Output: [1]\n",
            "Input: [1 1], Predicted Output: [[0.00063522]], Actual Output: [0]\n"
          ]
        }
      ],
      "source": [
        "import numpy as np\n",
        "\n",
        "# XOR 데이터셋\n",
        "x = np.array([[0, 0], [0, 1], [1, 0], [1, 1]])\n",
        "y = np.array([[0], [1], [1], [0]])\n",
        "\n",
        "# 활성화 함수\n",
        "def sigmoid(x):\n",
        "    return 1 / (1 + np.exp(-x))\n",
        "\n",
        "def sigmoid_derivative(x):\n",
        "    return x * (1 - x)\n",
        "\n",
        "# 다층 퍼셉트론 모델\n",
        "class MLP:\n",
        "    def __init__(self, input_size, hidden_size, output_size):\n",
        "        self.input_size = input_size\n",
        "        self.hidden_size = hidden_size\n",
        "        self.output_size = output_size\n",
        "\n",
        "        # 가중치 초기화\n",
        "        self.weights_input_hidden = np.random.uniform(-0.5, 0.5, (input_size, hidden_size))\n",
        "        self.weights_hidden_output = np.random.uniform(-0.5, 0.5, (hidden_size, output_size))\n",
        "\n",
        "        # 바이어스 초기화\n",
        "        self.bias_hidden = np.zeros((1, hidden_size))\n",
        "        self.bias_output = np.zeros((1, output_size))\n",
        "\n",
        "        # Adam 옵티마이저 변수\n",
        "        self.m_weights_ih = np.zeros_like(self.weights_input_hidden)\n",
        "        self.v_weights_ih = np.zeros_like(self.weights_input_hidden)\n",
        "        self.m_weights_ho = np.zeros_like(self.weights_hidden_output)\n",
        "        self.v_weights_ho = np.zeros_like(self.weights_hidden_output)\n",
        "        self.m_bias_h = np.zeros_like(self.bias_hidden)\n",
        "        self.v_bias_h = np.zeros_like(self.bias_hidden)\n",
        "        self.m_bias_o = np.zeros_like(self.bias_output)\n",
        "        self.v_bias_o = np.zeros_like(self.bias_output)\n",
        "\n",
        "        self.beta1 = 0.9\n",
        "        self.beta2 = 0.999\n",
        "        self.epsilon = 1e-8\n",
        "        self.learning_rate = 0.01\n",
        "        self.t = 0\n",
        "\n",
        "    # 순전파\n",
        "    def forward(self, x):\n",
        "        self.hidden_input = np.dot(x, self.weights_input_hidden) + self.bias_hidden\n",
        "        self.hidden_output = sigmoid(self.hidden_input)\n",
        "        self.final_input = np.dot(self.hidden_output, self.weights_hidden_output) + self.bias_output\n",
        "        self.final_output = sigmoid(self.final_input)\n",
        "        return self.final_output\n",
        "\n",
        "    # 역전파 (Adam 옵티마이저 포함)\n",
        "    def backward(self, x, y, output):\n",
        "        self.t += 1\n",
        "        output_error = y - output  # 출력층 오차\n",
        "        output_delta = output_error * sigmoid_derivative(output)\n",
        "\n",
        "        hidden_error = np.dot(output_delta, self.weights_hidden_output.T)  # 은닉층 오차\n",
        "        hidden_delta = hidden_error * sigmoid_derivative(self.hidden_output)\n",
        "\n",
        "        # 가중치와 바이어스의 변화량 계산\n",
        "        weights_ho_grad = np.dot(self.hidden_output.T, output_delta)\n",
        "        weights_ih_grad = np.dot(x.T, hidden_delta)\n",
        "        bias_o_grad = np.sum(output_delta, axis=0, keepdims=True)\n",
        "        bias_h_grad = np.sum(hidden_delta, axis=0, keepdims=True)\n",
        "\n",
        "        # Adam 옵티마이저를 이용한 가중치 업데이트\n",
        "        self.update_with_adam(self.weights_input_hidden, self.m_weights_ih, self.v_weights_ih, weights_ih_grad)\n",
        "        self.update_with_adam(self.weights_hidden_output, self.m_weights_ho, self.v_weights_ho, weights_ho_grad)\n",
        "        self.update_with_adam(self.bias_hidden, self.m_bias_h, self.v_bias_h, bias_h_grad)\n",
        "        self.update_with_adam(self.bias_output, self.m_bias_o, self.v_bias_o, bias_o_grad)\n",
        "\n",
        "    # Adam 옵티마이저 업데이트\n",
        "    def update_with_adam(self, weights, m, v, grad):\n",
        "        m[:] = self.beta1 * m + (1 - self.beta1) * grad\n",
        "        v[:] = self.beta2 * v + (1 - self.beta2) * (grad ** 2)\n",
        "        m_hat = m / (1 - self.beta1 ** self.t)\n",
        "        v_hat = v / (1 - self.beta2 ** self.t)\n",
        "        weights += self.learning_rate * m_hat / (np.sqrt(v_hat) + self.epsilon)\n",
        "\n",
        "    # 훈련 함수\n",
        "    def train(self, x, y, epochs):\n",
        "        for epoch in range(epochs):\n",
        "            output = self.forward(x)\n",
        "            self.backward(x, y, output)\n",
        "            if epoch % 1000 == 0:\n",
        "                loss = np.mean((y - output) ** 2)\n",
        "                print(f\"Epoch {epoch}, Loss: {loss}\")\n",
        "\n",
        "# 모델 초기화\n",
        "mlp = MLP(input_size=2, hidden_size=16, output_size=1)\n",
        "\n",
        "# 모델 훈련\n",
        "mlp.train(x, y, epochs=10000)\n",
        "\n",
        "# 예측 결과 확인\n",
        "for i in range(len(x)):\n",
        "    print(f\"Input: {x[i]}, Predicted Output: {mlp.forward(x[i])}, Actual Output: {y[i]}\")"
      ]
    }
  ]
}